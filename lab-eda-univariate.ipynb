{
 "cells": [
  {
   "cell_type": "code",
   "execution_count": 1,
   "id": "3edecfb5",
   "metadata": {},
   "outputs": [],
   "source": [
    "import pandas as pd\n",
    "import matplotlib.pyplot as plt\n",
    "import seaborn as sns\n",
    "import numpy as np\n",
    "\n",
    "%matplotlib inline"
   ]
  },
  {
   "cell_type": "code",
   "execution_count": 2,
   "id": "dfef4056",
   "metadata": {},
   "outputs": [],
   "source": [
    "df = pd.read_csv('amz_uk_price_prediction_dataset.csv')"
   ]
  },
  {
   "cell_type": "code",
   "execution_count": 3,
   "id": "a7877239",
   "metadata": {},
   "outputs": [
    {
     "data": {
      "text/html": [
       "<div>\n",
       "<style scoped>\n",
       "    .dataframe tbody tr th:only-of-type {\n",
       "        vertical-align: middle;\n",
       "    }\n",
       "\n",
       "    .dataframe tbody tr th {\n",
       "        vertical-align: top;\n",
       "    }\n",
       "\n",
       "    .dataframe thead th {\n",
       "        text-align: right;\n",
       "    }\n",
       "</style>\n",
       "<table border=\"1\" class=\"dataframe\">\n",
       "  <thead>\n",
       "    <tr style=\"text-align: right;\">\n",
       "      <th></th>\n",
       "      <th>uid</th>\n",
       "      <th>asin</th>\n",
       "      <th>title</th>\n",
       "      <th>stars</th>\n",
       "      <th>reviews</th>\n",
       "      <th>price</th>\n",
       "      <th>isBestSeller</th>\n",
       "      <th>boughtInLastMonth</th>\n",
       "      <th>category</th>\n",
       "    </tr>\n",
       "  </thead>\n",
       "  <tbody>\n",
       "    <tr>\n",
       "      <th>0</th>\n",
       "      <td>1</td>\n",
       "      <td>B09B96TG33</td>\n",
       "      <td>Echo Dot (5th generation, 2022 release) | Big ...</td>\n",
       "      <td>4.7</td>\n",
       "      <td>15308</td>\n",
       "      <td>21.99</td>\n",
       "      <td>False</td>\n",
       "      <td>0</td>\n",
       "      <td>Hi-Fi Speakers</td>\n",
       "    </tr>\n",
       "    <tr>\n",
       "      <th>1</th>\n",
       "      <td>2</td>\n",
       "      <td>B01HTH3C8S</td>\n",
       "      <td>Anker Soundcore mini, Super-Portable Bluetooth...</td>\n",
       "      <td>4.7</td>\n",
       "      <td>98099</td>\n",
       "      <td>23.99</td>\n",
       "      <td>True</td>\n",
       "      <td>0</td>\n",
       "      <td>Hi-Fi Speakers</td>\n",
       "    </tr>\n",
       "    <tr>\n",
       "      <th>2</th>\n",
       "      <td>3</td>\n",
       "      <td>B09B8YWXDF</td>\n",
       "      <td>Echo Dot (5th generation, 2022 release) | Big ...</td>\n",
       "      <td>4.7</td>\n",
       "      <td>15308</td>\n",
       "      <td>21.99</td>\n",
       "      <td>False</td>\n",
       "      <td>0</td>\n",
       "      <td>Hi-Fi Speakers</td>\n",
       "    </tr>\n",
       "    <tr>\n",
       "      <th>3</th>\n",
       "      <td>4</td>\n",
       "      <td>B09B8T5VGV</td>\n",
       "      <td>Echo Dot with clock (5th generation, 2022 rele...</td>\n",
       "      <td>4.7</td>\n",
       "      <td>7205</td>\n",
       "      <td>31.99</td>\n",
       "      <td>False</td>\n",
       "      <td>0</td>\n",
       "      <td>Hi-Fi Speakers</td>\n",
       "    </tr>\n",
       "    <tr>\n",
       "      <th>4</th>\n",
       "      <td>5</td>\n",
       "      <td>B09WX6QD65</td>\n",
       "      <td>Introducing Echo Pop | Full sound compact Wi-F...</td>\n",
       "      <td>4.6</td>\n",
       "      <td>1881</td>\n",
       "      <td>17.99</td>\n",
       "      <td>False</td>\n",
       "      <td>0</td>\n",
       "      <td>Hi-Fi Speakers</td>\n",
       "    </tr>\n",
       "    <tr>\n",
       "      <th>...</th>\n",
       "      <td>...</td>\n",
       "      <td>...</td>\n",
       "      <td>...</td>\n",
       "      <td>...</td>\n",
       "      <td>...</td>\n",
       "      <td>...</td>\n",
       "      <td>...</td>\n",
       "      <td>...</td>\n",
       "      <td>...</td>\n",
       "    </tr>\n",
       "    <tr>\n",
       "      <th>2443646</th>\n",
       "      <td>2828589</td>\n",
       "      <td>B0CHSD7P2Q</td>\n",
       "      <td>Motorbike Armour, Motorbike Clothing, Cycling ...</td>\n",
       "      <td>0.0</td>\n",
       "      <td>0</td>\n",
       "      <td>22.34</td>\n",
       "      <td>False</td>\n",
       "      <td>0</td>\n",
       "      <td>Motorbike Clothing</td>\n",
       "    </tr>\n",
       "    <tr>\n",
       "      <th>2443647</th>\n",
       "      <td>2828590</td>\n",
       "      <td>B0B7B8FNBQ</td>\n",
       "      <td>PROFIRST Waterproof Motorcycle 2 Piece Ladies ...</td>\n",
       "      <td>0.0</td>\n",
       "      <td>0</td>\n",
       "      <td>97.99</td>\n",
       "      <td>False</td>\n",
       "      <td>0</td>\n",
       "      <td>Motorbike Clothing</td>\n",
       "    </tr>\n",
       "    <tr>\n",
       "      <th>2443648</th>\n",
       "      <td>2828591</td>\n",
       "      <td>B0BD5FL5FB</td>\n",
       "      <td>Men’s Motorcycle Motorbike Biker Trousers Kevl...</td>\n",
       "      <td>0.0</td>\n",
       "      <td>0</td>\n",
       "      <td>52.99</td>\n",
       "      <td>False</td>\n",
       "      <td>0</td>\n",
       "      <td>Motorbike Clothing</td>\n",
       "    </tr>\n",
       "    <tr>\n",
       "      <th>2443649</th>\n",
       "      <td>2828592</td>\n",
       "      <td>B008OYLL4I</td>\n",
       "      <td>Texpeed Mens Motorcycle Motorbike Biker Trouse...</td>\n",
       "      <td>4.3</td>\n",
       "      <td>404</td>\n",
       "      <td>79.99</td>\n",
       "      <td>False</td>\n",
       "      <td>0</td>\n",
       "      <td>Motorbike Clothing</td>\n",
       "    </tr>\n",
       "    <tr>\n",
       "      <th>2443650</th>\n",
       "      <td>2828593</td>\n",
       "      <td>B08P3W9B3T</td>\n",
       "      <td>RIDEX CJ223 Motorcycle Motorbike Jacket Armour...</td>\n",
       "      <td>4.5</td>\n",
       "      <td>34</td>\n",
       "      <td>53.99</td>\n",
       "      <td>False</td>\n",
       "      <td>0</td>\n",
       "      <td>Motorbike Clothing</td>\n",
       "    </tr>\n",
       "  </tbody>\n",
       "</table>\n",
       "<p>2443651 rows × 9 columns</p>\n",
       "</div>"
      ],
      "text/plain": [
       "             uid        asin  \\\n",
       "0              1  B09B96TG33   \n",
       "1              2  B01HTH3C8S   \n",
       "2              3  B09B8YWXDF   \n",
       "3              4  B09B8T5VGV   \n",
       "4              5  B09WX6QD65   \n",
       "...          ...         ...   \n",
       "2443646  2828589  B0CHSD7P2Q   \n",
       "2443647  2828590  B0B7B8FNBQ   \n",
       "2443648  2828591  B0BD5FL5FB   \n",
       "2443649  2828592  B008OYLL4I   \n",
       "2443650  2828593  B08P3W9B3T   \n",
       "\n",
       "                                                     title  stars  reviews  \\\n",
       "0        Echo Dot (5th generation, 2022 release) | Big ...    4.7    15308   \n",
       "1        Anker Soundcore mini, Super-Portable Bluetooth...    4.7    98099   \n",
       "2        Echo Dot (5th generation, 2022 release) | Big ...    4.7    15308   \n",
       "3        Echo Dot with clock (5th generation, 2022 rele...    4.7     7205   \n",
       "4        Introducing Echo Pop | Full sound compact Wi-F...    4.6     1881   \n",
       "...                                                    ...    ...      ...   \n",
       "2443646  Motorbike Armour, Motorbike Clothing, Cycling ...    0.0        0   \n",
       "2443647  PROFIRST Waterproof Motorcycle 2 Piece Ladies ...    0.0        0   \n",
       "2443648  Men’s Motorcycle Motorbike Biker Trousers Kevl...    0.0        0   \n",
       "2443649  Texpeed Mens Motorcycle Motorbike Biker Trouse...    4.3      404   \n",
       "2443650  RIDEX CJ223 Motorcycle Motorbike Jacket Armour...    4.5       34   \n",
       "\n",
       "         price  isBestSeller  boughtInLastMonth            category  \n",
       "0        21.99         False                  0      Hi-Fi Speakers  \n",
       "1        23.99          True                  0      Hi-Fi Speakers  \n",
       "2        21.99         False                  0      Hi-Fi Speakers  \n",
       "3        31.99         False                  0      Hi-Fi Speakers  \n",
       "4        17.99         False                  0      Hi-Fi Speakers  \n",
       "...        ...           ...                ...                 ...  \n",
       "2443646  22.34         False                  0  Motorbike Clothing  \n",
       "2443647  97.99         False                  0  Motorbike Clothing  \n",
       "2443648  52.99         False                  0  Motorbike Clothing  \n",
       "2443649  79.99         False                  0  Motorbike Clothing  \n",
       "2443650  53.99         False                  0  Motorbike Clothing  \n",
       "\n",
       "[2443651 rows x 9 columns]"
      ]
     },
     "execution_count": 3,
     "metadata": {},
     "output_type": "execute_result"
    }
   ],
   "source": [
    "df"
   ]
  },
  {
   "cell_type": "markdown",
   "id": "3d2bc235",
   "metadata": {},
   "source": [
    "# Business Question: \n",
    "\n",
    "### What are the most popular product categories on Amazon UK, and how do they compare in terms of listing frequency?\n",
    "\n",
    "## Frequency Tables:\n",
    "\n",
    "Generate a frequency table for the product category.\n",
    "Which are the top 5 most listed product categories?"
   ]
  },
  {
   "cell_type": "code",
   "execution_count": 5,
   "id": "6a9a0f8a",
   "metadata": {},
   "outputs": [
    {
     "data": {
      "text/plain": [
       "(category\n",
       " Sports & Outdoors                         836265\n",
       " Beauty                                     19312\n",
       " Handmade Clothing, Shoes & Accessories     19229\n",
       " Bath & Body                                19092\n",
       " Birthday Gifts                             18978\n",
       " Name: count, dtype: int64,\n",
       " category\n",
       " Sports & Outdoors                         0.342219\n",
       " Beauty                                    0.007903\n",
       " Handmade Clothing, Shoes & Accessories    0.007869\n",
       " Bath & Body                               0.007813\n",
       " Birthday Gifts                            0.007766\n",
       " Name: proportion, dtype: float64)"
      ]
     },
     "execution_count": 5,
     "metadata": {},
     "output_type": "execute_result"
    }
   ],
   "source": [
    "df_fq = df['category'].value_counts()\n",
    "proportion_table = df['category'].value_counts(normalize=True)\n",
    "\n",
    "df_fq.head(5), proportion_table.head(5)"
   ]
  },
  {
   "cell_type": "markdown",
   "id": "b41b6756",
   "metadata": {},
   "source": [
    "The frequency table gives the count of each zoning type, while the proportion table provides the percentage representation of each category in the dataset. This helps to quickly identify dominant and minority categories."
   ]
  },
  {
   "cell_type": "markdown",
   "id": "75f077ba",
   "metadata": {},
   "source": [
    "## Visualizations:\n",
    "\n",
    "- Display the distribution of products across different categories using a bar chart. If you face problems understanding the chart, do it for a subset of top categories.\n",
    "\n",
    "- For a subset of top categories, visualize their proportions using a pie chart. Does any category dominate the listings?"
   ]
  },
  {
   "cell_type": "code",
   "execution_count": 8,
   "id": "e9197dd7",
   "metadata": {},
   "outputs": [
    {
     "name": "stderr",
     "output_type": "stream",
     "text": [
      "C:\\Users\\dylan\\AppData\\Local\\Temp\\ipykernel_27204\\2957152672.py:1: FutureWarning: \n",
      "\n",
      "Passing `palette` without assigning `hue` is deprecated and will be removed in v0.14.0. Assign the `x` variable to `hue` and set `legend=False` for the same effect.\n",
      "\n",
      "  sns.barplot(x=df_fq.head(5).index, y=df_fq.head(5).values, palette=\"Set3\");\n"
     ]
    },
    {
     "data": {
      "image/png": "[encoded data removed]",
      "text/plain": [
       "<Figure size 640x480 with 1 Axes>"
      ]
     },
     "metadata": {},
     "output_type": "display_data"
    }
   ],
   "source": [
    "sns.barplot(x=df_fq.head(5).index, y=df_fq.head(5).values, palette=\"Set3\");\n"
   ]
  },
  {
   "cell_type": "markdown",
   "id": "26d79273",
   "metadata": {},
   "source": [
    "Sports and Outdoor dominate the listing  "
   ]
  },
  {
   "cell_type": "markdown",
   "id": "ddcd4433",
   "metadata": {},
   "source": [
    "# **Part 2: Delving into Product Pricing Business Question:**\n",
    "\n",
    "How are products priced on Amazon UK, and are there specific price points or ranges that are more common?"
   ]
  },
  {
   "cell_type": "markdown",
   "id": "a69726c0",
   "metadata": {},
   "source": [
    "**Measures of Centrality:**\n",
    "\n",
    "Calculate the mean, median, and mode for the price of products.\n",
    "- What's the average price point of products listed?\n",
    "- How does this compare with the most common price point (mode)?"
   ]
  },
  {
   "cell_type": "code",
   "execution_count": 10,
   "id": "9ae3606e",
   "metadata": {},
   "outputs": [
    {
     "data": {
      "text/html": [
       "<div>\n",
       "<style scoped>\n",
       "    .dataframe tbody tr th:only-of-type {\n",
       "        vertical-align: middle;\n",
       "    }\n",
       "\n",
       "    .dataframe tbody tr th {\n",
       "        vertical-align: top;\n",
       "    }\n",
       "\n",
       "    .dataframe thead th {\n",
       "        text-align: right;\n",
       "    }\n",
       "</style>\n",
       "<table border=\"1\" class=\"dataframe\">\n",
       "  <thead>\n",
       "    <tr style=\"text-align: right;\">\n",
       "      <th></th>\n",
       "      <th>count</th>\n",
       "      <th>mean</th>\n",
       "      <th>std</th>\n",
       "      <th>min</th>\n",
       "      <th>25%</th>\n",
       "      <th>50%</th>\n",
       "      <th>75%</th>\n",
       "      <th>max</th>\n",
       "    </tr>\n",
       "  </thead>\n",
       "  <tbody>\n",
       "    <tr>\n",
       "      <th>uid</th>\n",
       "      <td>2443651.0</td>\n",
       "      <td>1.370545e+06</td>\n",
       "      <td>816056.169852</td>\n",
       "      <td>1.0</td>\n",
       "      <td>658921.50</td>\n",
       "      <td>1349029.00</td>\n",
       "      <td>2060685.50</td>\n",
       "      <td>2828593.0</td>\n",
       "    </tr>\n",
       "    <tr>\n",
       "      <th>stars</th>\n",
       "      <td>2443651.0</td>\n",
       "      <td>2.152836e+00</td>\n",
       "      <td>2.194865</td>\n",
       "      <td>0.0</td>\n",
       "      <td>0.00</td>\n",
       "      <td>0.00</td>\n",
       "      <td>4.40</td>\n",
       "      <td>5.0</td>\n",
       "    </tr>\n",
       "    <tr>\n",
       "      <th>reviews</th>\n",
       "      <td>2443651.0</td>\n",
       "      <td>4.806278e+02</td>\n",
       "      <td>5944.124151</td>\n",
       "      <td>0.0</td>\n",
       "      <td>0.00</td>\n",
       "      <td>0.00</td>\n",
       "      <td>59.00</td>\n",
       "      <td>1356658.0</td>\n",
       "    </tr>\n",
       "    <tr>\n",
       "      <th>price</th>\n",
       "      <td>2443651.0</td>\n",
       "      <td>8.924381e+01</td>\n",
       "      <td>345.608862</td>\n",
       "      <td>0.0</td>\n",
       "      <td>9.99</td>\n",
       "      <td>19.09</td>\n",
       "      <td>45.99</td>\n",
       "      <td>100000.0</td>\n",
       "    </tr>\n",
       "    <tr>\n",
       "      <th>boughtInLastMonth</th>\n",
       "      <td>2443651.0</td>\n",
       "      <td>2.589699e+01</td>\n",
       "      <td>240.483727</td>\n",
       "      <td>0.0</td>\n",
       "      <td>0.00</td>\n",
       "      <td>0.00</td>\n",
       "      <td>0.00</td>\n",
       "      <td>50000.0</td>\n",
       "    </tr>\n",
       "  </tbody>\n",
       "</table>\n",
       "</div>"
      ],
      "text/plain": [
       "                       count          mean            std  min        25%  \\\n",
       "uid                2443651.0  1.370545e+06  816056.169852  1.0  658921.50   \n",
       "stars              2443651.0  2.152836e+00       2.194865  0.0       0.00   \n",
       "reviews            2443651.0  4.806278e+02    5944.124151  0.0       0.00   \n",
       "price              2443651.0  8.924381e+01     345.608862  0.0       9.99   \n",
       "boughtInLastMonth  2443651.0  2.589699e+01     240.483727  0.0       0.00   \n",
       "\n",
       "                          50%         75%        max  \n",
       "uid                1349029.00  2060685.50  2828593.0  \n",
       "stars                    0.00        4.40        5.0  \n",
       "reviews                  0.00       59.00  1356658.0  \n",
       "price                   19.09       45.99   100000.0  \n",
       "boughtInLastMonth        0.00        0.00    50000.0  "
      ]
     },
     "execution_count": 10,
     "metadata": {},
     "output_type": "execute_result"
    }
   ],
   "source": [
    "df.describe().T"
   ]
  },
  {
   "cell_type": "markdown",
   "id": "a6c56a42",
   "metadata": {},
   "source": [
    "**From `describe()` we get:**\n",
    "- Measures of centrality: mean, median (indicated as 50%)\n",
    "- Measures of dispersion: standard deviation (std), minimum, maximum, quartiles (Q1, Q2, Q3, indicated as 25%, 50%, and 75% respectively)"
   ]
  },
  {
   "cell_type": "code",
   "execution_count": 11,
   "id": "f56eabca",
   "metadata": {},
   "outputs": [
    {
     "data": {
      "text/plain": [
       "(89.24380943923663, 19.09, 9.99)"
      ]
     },
     "execution_count": 11,
     "metadata": {},
     "output_type": "execute_result"
    }
   ],
   "source": [
    "mean_price = df['price'].mean()\n",
    "median_price = df['price'].median()\n",
    "mode_price = df['price'].mode()[0]\n",
    "\n",
    "mean_price, median_price, mode_price"
   ]
  },
  {
   "cell_type": "markdown",
   "id": "a49e6466",
   "metadata": {},
   "source": [
    "The average price is $89.24, the most common price is 9.99. There is  difference of 79.75"
   ]
  },
  {
   "cell_type": "markdown",
   "id": "51d7559b",
   "metadata": {},
   "source": [
    "**Measures of Dispersion:**\n",
    "\n",
    "- Determine the variance, standard deviation, range, and interquartile range for product price.\n",
    "- How varied are the product prices? Are there any indicators of a significant spread in prices?\n"
   ]
  },
  {
   "cell_type": "markdown",
   "id": "4770c69d",
   "metadata": {},
   "source": [
    "**Insights** from Summary Statistics for 'SalePrice':\n",
    "\n",
    "- The average (mean) price in the dataset is approximately `$89.24`.\n",
    "\n",
    "- The median sale price (middle value when sorted) stands at `$19.09`. Notably, the median is lower than the mean, suggesting a skew in the distribution of sale prices towards higher values.\n",
    "\n",
    "- The standard deviation, a measure of the amount of variation or dispersion in the sale prices, is approximately `$345.61`.\n",
    "\n",
    "- The minimum and maximum sale prices are `$0.0` and `$100,000.0`, respectively, highlighting a wide range of property values in the dataset.\n",
    "\n",
    "- The inter-quartile range (IQR), given by the values at 25% (Q1) and 75% (Q3), is between `$9.99` and `$45.99`. This means that 50% of the houses in the dataset were sold within this price range."
   ]
  },
  {
   "cell_type": "markdown",
   "id": "6373001c",
   "metadata": {},
   "source": [
    "#### More Centrality and Dispersion Measures\n"
   ]
  },
  {
   "cell_type": "markdown",
   "id": "db0ec040",
   "metadata": {},
   "source": [
    "Now, suppose we want to calculate individual statistical measures without using the `.describe()` method. Here are some ways to do it:\n",
    "\n",
    "- `df[column].mean()`: Computes the mean of the selected column.\n",
    "- `df[column].median()`: Calculates the median of the selected column.\n",
    "- `df[column].mode()`: Identifies the mode of the selected column.\n",
    "- `df[column].std()`: Determines the standard deviation of the selected column.\n",
    "- `df[column].var()`: Computes the variance of the selected column.\n",
    "- `df[column].min()`: Finds the minimum value in the selected column.\n",
    "- `df[column].max()`: Finds the maximum value in the selected column.\n",
    "- `df[column].count()`: Counts the number of non-NaN entries in the selected column.\n",
    "\n",
    "In these examples, replace `column` with the name of the column you want to analyze."
   ]
  },
  {
   "cell_type": "code",
   "execution_count": 12,
   "id": "73827750",
   "metadata": {},
   "outputs": [
    {
     "data": {
      "text/plain": [
       "119445.48532256528"
      ]
     },
     "execution_count": 12,
     "metadata": {},
     "output_type": "execute_result"
    }
   ],
   "source": [
    "df['price'].var()"
   ]
  },
  {
   "cell_type": "markdown",
   "id": "4b9877ad",
   "metadata": {},
   "source": [
    "**Visualizations:**\n",
    "\n",
    "Is there a specific price range where most products fall? Plot a histogram to visualize the distribution of product prices. If its hard to read these diagrams, think why this is, and explain how it could be solved..\n",
    "- Are there products that are priced significantly higher than the rest? Use a box plot to showcase the spread and potential outliers in product pricing."
   ]
  },
  {
   "cell_type": "code",
   "execution_count": 18,
   "id": "ff8198f0",
   "metadata": {},
   "outputs": [
    {
     "data": {
      "image/png": "[encoded data removed]",
      "text/plain": [
       "<Figure size 640x480 with 1 Axes>"
      ]
     },
     "metadata": {},
     "output_type": "display_data"
    }
   ],
   "source": [
    "# Plotting a histogram for the 'SalePrice' column of the 'data' dataframe\n",
    "# 'kde=True' adds a Kernel Density Estimate plot to give an approximation of the data's distribution\n",
    "# 'bins=30' divides the data into 30 bins for more detailed granularity\n",
    "# 'color=\"salmon\"' sets the color of the bars to salmon\n",
    "sns.histplot(df['price'], kde=True, bins=3, color=\"teal\");"
   ]
  },
  {
   "cell_type": "markdown",
   "id": "d7c87a36",
   "metadata": {},
   "source": [
    "From my understanding of the graph there nay not be enough data points in each bin. I have tried decreasing and increasing the amount of bins, either one bar shows over all or its one long low bar that is hard to see."
   ]
  },
  {
   "cell_type": "code",
   "execution_count": 19,
   "id": "2e9cf36e",
   "metadata": {},
   "outputs": [
    {
     "data": {
      "text/plain": [
       "<Axes: ylabel='price'>"
      ]
     },
     "execution_count": 19,
     "metadata": {},
     "output_type": "execute_result"
    },
    {
     "data": {
      "image/png": "[encoded data removed]",
      "text/plain": [
       "<Figure size 640x480 with 1 Axes>"
      ]
     },
     "metadata": {},
     "output_type": "display_data"
    }
   ],
   "source": [
    "sns.boxplot(data = df['price'], color=\"lightblue\")\n"
   ]
  },
  {
   "cell_type": "markdown",
   "id": "6b9d8d1a",
   "metadata": {},
   "source": [
    "right now there are a lot of outliers, I believe they are affecting how the plot is presenting at the moment. "
   ]
  },
  {
   "cell_type": "markdown",
   "id": "de5b738b",
   "metadata": {},
   "source": [
    "# Part 3: Unpacking Product Ratings\n",
    "Business Question: How do customers rate products on Amazon UK, and are there any patterns or tendencies in the ratings?"
   ]
  },
  {
   "cell_type": "markdown",
   "id": "2aa51857",
   "metadata": {},
   "source": [
    "**Measures of Centrality:**\n",
    "\n",
    "Calculate the mean, median, and mode for the rating of products.\n",
    "How do customers generally rate products? Is there a common trend?"
   ]
  },
  {
   "cell_type": "code",
   "execution_count": 20,
   "id": "ea972d40",
   "metadata": {},
   "outputs": [
    {
     "data": {
      "text/plain": [
       "(2.152836472966065, 0.0, 0.0)"
      ]
     },
     "execution_count": 20,
     "metadata": {},
     "output_type": "execute_result"
    }
   ],
   "source": [
    "mean_s = df['stars'].mean()\n",
    "median_s = df['stars'].median()\n",
    "mode_s = df['stars'].mode()[0]\n",
    "\n",
    "mean_s, median_s, mode_s"
   ]
  },
  {
   "cell_type": "markdown",
   "id": "579e952a",
   "metadata": {},
   "source": [
    "The average rating customers give products is 2.15 stars. its common for most customers not to rate the items they purchase. This should explain why the middle value is zero."
   ]
  },
  {
   "cell_type": "markdown",
   "id": "1a26bbcc",
   "metadata": {},
   "source": [
    "**Measures of Dispersion:**\n",
    "\n",
    "Determine the variance, standard deviation, and interquartile range for product rating.\n",
    "Are the ratings consistent, or is there a wide variation in customer feedback?"
   ]
  },
  {
   "cell_type": "code",
   "execution_count": 23,
   "id": "59454f68",
   "metadata": {},
   "outputs": [
    {
     "data": {
      "text/plain": [
       "(4.81743402976196, 2.1948653785054697)"
      ]
     },
     "execution_count": 23,
     "metadata": {},
     "output_type": "execute_result"
    }
   ],
   "source": [
    "df['stars'].var(), df['stars'].std()"
   ]
  },
  {
   "cell_type": "code",
   "execution_count": 24,
   "id": "99ca037b",
   "metadata": {},
   "outputs": [
    {
     "data": {
      "text/plain": [
       "count    2.443651e+06\n",
       "mean     2.152836e+00\n",
       "std      2.194865e+00\n",
       "min      0.000000e+00\n",
       "25%      0.000000e+00\n",
       "50%      0.000000e+00\n",
       "75%      4.400000e+00\n",
       "max      5.000000e+00\n",
       "Name: stars, dtype: float64"
      ]
     },
     "execution_count": 24,
     "metadata": {},
     "output_type": "execute_result"
    }
   ],
   "source": [
    "df['stars'].describe().T"
   ]
  },
  {
   "cell_type": "markdown",
   "id": "e5ff0efb",
   "metadata": {},
   "source": [
    "- The standard deviation, a measure of the amount of variation or dispersion in STARS is approximately `2.19`\n",
    "\n",
    "- The inter-quartile range (IQR), given by the values at 25% (Q1) and 75% (Q3), is between `0.000000e+00` and `4.400000e+00`.\n",
    "\n",
    "There doesn't seem to be a wide range of ratings"
   ]
  },
  {
   "cell_type": "markdown",
   "id": "b46d83a8",
   "metadata": {},
   "source": [
    "**Shape of the Distribution:**\n",
    "\n",
    "Calculate the skewness and kurtosis for the rating column.\n",
    "Are the ratings normally distributed, or do they lean towards higher or lower values?"
   ]
  },
  {
   "cell_type": "code",
   "execution_count": 25,
   "id": "dc80a51c",
   "metadata": {},
   "outputs": [
    {
     "data": {
      "text/plain": [
       "(0.08120735761080985, -1.9260061280432985)"
      ]
     },
     "execution_count": 25,
     "metadata": {},
     "output_type": "execute_result"
    }
   ],
   "source": [
    "skewness_price = df['stars'].skew()\n",
    "kurtosis_price = df['stars'].kurtosis()\n",
    "\n",
    "skewness_price, kurtosis_price"
   ]
  },
  {
   "cell_type": "markdown",
   "id": "13e6c908",
   "metadata": {},
   "source": [
    "From the values we can see that the distribution is right-skewed.This means that the tail on the right side (higher prices) is longer than the left side (lower prices). In practical terms, this suggests that there are a significant number of houses that are sold at higher prices, which are acting as outliers and pulling the mean upwards.\n",
    "\n",
    "The Kurtisis is negative and less than 3 so the distribtion doeant have a heavy tail or sharp peak. \n"
   ]
  },
  {
   "cell_type": "markdown",
   "id": "8321fffb",
   "metadata": {},
   "source": [
    "**Visualizations:**\n",
    "\n",
    "Plot a histogram to visualize the distribution of product ratings. Is there a specific rating that is more common?"
   ]
  },
  {
   "cell_type": "code",
   "execution_count": 30,
   "id": "a963bd37",
   "metadata": {},
   "outputs": [
    {
     "data": {
      "image/png": "[encoded data removed]",
      "text/plain": [
       "<Figure size 640x480 with 1 Axes>"
      ]
     },
     "metadata": {},
     "output_type": "display_data"
    }
   ],
   "source": [
    "sns.histplot(df['stars'], kde=True, bins=50, color=\"green\");"
   ]
  },
  {
   "cell_type": "markdown",
   "id": "75a2c539",
   "metadata": {},
   "source": [
    "Rating between 4 and 5 seem to be more common. Not rating an item is very common"
   ]
  }
 ],
 "metadata": {
  "kernelspec": {
   "display_name": "Python 3 (ipykernel)",
   "language": "python",
   "name": "python3"
  },
  "language_info": {
   "codemirror_mode": {
    "name": "ipython",
    "version": 3
   },
   "file_extension": ".py",
   "mimetype": "text/x-python",
   "name": "python",
   "nbconvert_exporter": "python",
   "pygments_lexer": "ipython3",
   "version": "3.11.7"
  }
 },
 "nbformat": 4,
 "nbformat_minor": 5
}
